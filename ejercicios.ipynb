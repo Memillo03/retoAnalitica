{
 "cells": [
  {
   "cell_type": "markdown",
   "metadata": {},
   "source": [
    "# Arte de la analítica\n",
    "1. Escribir una función de Python que encuentre los números primos en los primeros N números naturales.\n",
    "N es el argumento de la función\n",
    "Llamar la función desde el código principal"
   ]
  },
  {
   "cell_type": "code",
   "execution_count": 56,
   "metadata": {},
   "outputs": [
    {
     "name": "stdout",
     "output_type": "stream",
     "text": [
      "2\n",
      "3\n",
      "5\n",
      "7\n",
      "11\n",
      "13\n",
      "17\n",
      "19\n",
      "23\n",
      "29\n",
      "31\n",
      "37\n",
      "41\n",
      "43\n",
      "47\n",
      "53\n",
      "59\n",
      "61\n",
      "67\n",
      "71\n",
      "73\n",
      "79\n",
      "83\n",
      "89\n",
      "97\n"
     ]
    }
   ],
   "source": [
    "def num_prim(N):\n",
    "    for i in range(N):\n",
    "        count = 0\n",
    "        for j in range(1,i):\n",
    "            if (i%j == 0):\n",
    "                count = count + 1\n",
    "        if (count == 1):\n",
    "            print(i)\n",
    "\n",
    "num_prim(100)"
   ]
  },
  {
   "cell_type": "code",
   "execution_count": 57,
   "metadata": {},
   "outputs": [
    {
     "name": "stdout",
     "output_type": "stream",
     "text": [
      "101\n",
      "103\n",
      "107\n",
      "109\n",
      "113\n",
      "127\n",
      "131\n",
      "137\n",
      "139\n",
      "149\n",
      "151\n",
      "157\n",
      "163\n",
      "167\n",
      "173\n",
      "179\n",
      "181\n",
      "191\n",
      "193\n",
      "197\n",
      "199\n",
      "211\n",
      "223\n",
      "227\n",
      "229\n",
      "233\n",
      "239\n",
      "241\n",
      "251\n",
      "257\n",
      "263\n",
      "269\n",
      "271\n",
      "277\n",
      "281\n",
      "283\n",
      "293\n",
      "307\n",
      "311\n",
      "313\n",
      "317\n",
      "331\n",
      "337\n",
      "347\n",
      "349\n",
      "353\n",
      "359\n",
      "367\n",
      "373\n",
      "379\n",
      "383\n",
      "389\n",
      "397\n",
      "401\n",
      "409\n",
      "419\n",
      "421\n",
      "431\n",
      "433\n",
      "439\n",
      "443\n",
      "449\n",
      "457\n",
      "461\n",
      "463\n",
      "467\n",
      "479\n",
      "487\n",
      "491\n",
      "499\n",
      "503\n",
      "509\n",
      "521\n",
      "523\n",
      "541\n",
      "547\n",
      "557\n",
      "563\n",
      "569\n",
      "571\n",
      "577\n",
      "587\n",
      "593\n",
      "599\n",
      "601\n",
      "607\n",
      "613\n",
      "617\n",
      "619\n",
      "631\n",
      "641\n",
      "643\n",
      "647\n",
      "653\n",
      "659\n",
      "661\n",
      "673\n",
      "677\n",
      "683\n",
      "691\n",
      "701\n",
      "709\n",
      "719\n",
      "727\n",
      "733\n",
      "739\n",
      "743\n",
      "751\n",
      "757\n",
      "761\n",
      "769\n",
      "773\n",
      "787\n",
      "797\n",
      "809\n",
      "811\n",
      "821\n",
      "823\n",
      "827\n",
      "829\n",
      "839\n",
      "853\n",
      "857\n",
      "859\n",
      "863\n",
      "877\n",
      "881\n",
      "883\n",
      "887\n",
      "907\n",
      "911\n",
      "919\n",
      "929\n",
      "937\n",
      "941\n",
      "947\n",
      "953\n",
      "967\n",
      "971\n",
      "977\n",
      "983\n",
      "991\n",
      "997\n"
     ]
    }
   ],
   "source": [
    "import math\n",
    "prime = []\n",
    "\n",
    "def sieveEras(limit):\n",
    "    num = [True for i in range(limit+1)]\n",
    "    p = 2\n",
    "    while (p*p<=limit):\n",
    "        if (num[p] == True):\n",
    "            for i in range(p*p, limit + 1, p):\n",
    "                num[i] = False\n",
    "        p = p+1\n",
    "\n",
    "    for p in range(2, limit+1):\n",
    "        if num[p] == True:\n",
    "            prime.append(p)\n",
    "\n",
    "def segmented(L,R):\n",
    "    limit = int(math.floor(math.sqrt(R))+1) #sqrt(R)\n",
    "    if limit<=100000:\n",
    "        sieveEras(limit)\n",
    "    elif limit>100000:\n",
    "        sieveEras(100000)\n",
    "    if L == 1:\n",
    "        L = L+1\n",
    "    elif L == 0:\n",
    "        L = L+2\n",
    "\n",
    "    #Lista de primos en el rango del\n",
    "    prime2 = [True for i in range(R-L+1)]\n",
    "    for p in range(len(prime)):\n",
    "        if p*p <= R:\n",
    "            i = int(math.floor(L/prime[p])*prime[p])\n",
    "            if i < L:\n",
    "                i = i+prime[p]\n",
    "            for j in range(i, R+1, prime[p]):\n",
    "                #f prime2[j-L] == True: No funciona para numeros pequeños\n",
    "                if prime2[j-L] == True and prime[p] != j:\n",
    "                    prime2[j-L] = False\n",
    "\n",
    "    for i in range(R-L+1):\n",
    "        if prime2[i] == True:\n",
    "            print(L+i)\n",
    "\n",
    "segmented(100,1000)"
   ]
  },
  {
   "cell_type": "markdown",
   "metadata": {},
   "source": [
    "2. Escribir una función de Pyton que encuentre el producto cruz en vectores de 3 componentes.\n",
    "La función recibe dos listas (vectores)\n",
    "La función regresa un tercer vector (lista) con el resultado\n",
    "Llamar a la función desde el código principal"
   ]
  },
  {
   "cell_type": "code",
   "execution_count": 58,
   "metadata": {},
   "outputs": [
    {
     "name": "stdout",
     "output_type": "stream",
     "text": [
      "[2, 8, -7]\n"
     ]
    }
   ],
   "source": [
    "def producto_cruz(N, M):\n",
    "    producto = [] \n",
    "    producto.append(N[1]*M[2] - N[2]*M[1])\n",
    "    producto.append(N[2]*M[0] - N[0]*M[2])\n",
    "    producto.append(N[0]*M[1] - N[1]*M[0])\n",
    "    print(producto)\n",
    "\n",
    "producto_cruz([2,3,4], [3,1,2])"
   ]
  },
  {
   "cell_type": "code",
   "execution_count": 59,
   "metadata": {},
   "outputs": [
    {
     "name": "stdout",
     "output_type": "stream",
     "text": [
      "[ 2  8 -7]\n"
     ]
    }
   ],
   "source": [
    "import numpy as np \n",
    "def producto_cruz_np(N, M):\n",
    "    product = np.cross(N,M)\n",
    "    print(product)\n",
    "\n",
    "producto_cruz_np([2,3,4], [3,1,2])"
   ]
  },
  {
   "cell_type": "markdown",
   "metadata": {},
   "source": [
    "3. Re-escribir el problema 2, pero ahora los vectores son leídos desde un archivo de texto."
   ]
  },
  {
   "cell_type": "code",
   "execution_count": 60,
   "metadata": {},
   "outputs": [
    {
     "name": "stdout",
     "output_type": "stream",
     "text": [
      "[['ï»¿1.345', '20.67', '-15.0821'], ['-5.012', '-40.33', '12.874']]\n"
     ]
    },
    {
     "ename": "ValueError",
     "evalue": "could not convert string to float: 'ï»¿1.345'",
     "output_type": "error",
     "traceback": [
      "\u001b[1;31m---------------------------------------------------------------------------\u001b[0m",
      "\u001b[1;31mValueError\u001b[0m                                Traceback (most recent call last)",
      "\u001b[1;32mc:\\Users\\Guillermo\\OneDrive - Instituto Tecnologico y de Estudios Superiores de Monterrey\\Carrera\\4to semestre\\Semana Tec (El arte de la análitica)\\ejercicios.ipynb Cell 8'\u001b[0m in \u001b[0;36m<cell line: 10>\u001b[1;34m()\u001b[0m\n\u001b[0;32m      <a href='vscode-notebook-cell:/c%3A/Users/Guillermo/OneDrive%20-%20Instituto%20Tecnologico%20y%20de%20Estudios%20Superiores%20de%20Monterrey/Carrera/4to%20semestre/Semana%20Tec%20%28El%20arte%20de%20la%20an%C3%A1litica%29/ejercicios.ipynb#ch0000012?line=6'>7</a>\u001b[0m         filas\u001b[39m.\u001b[39mappend(row)\n\u001b[0;32m      <a href='vscode-notebook-cell:/c%3A/Users/Guillermo/OneDrive%20-%20Instituto%20Tecnologico%20y%20de%20Estudios%20Superiores%20de%20Monterrey/Carrera/4to%20semestre/Semana%20Tec%20%28El%20arte%20de%20la%20an%C3%A1litica%29/ejercicios.ipynb#ch0000012?line=7'>8</a>\u001b[0m \u001b[39mprint\u001b[39m(filas)\n\u001b[1;32m---> <a href='vscode-notebook-cell:/c%3A/Users/Guillermo/OneDrive%20-%20Instituto%20Tecnologico%20y%20de%20Estudios%20Superiores%20de%20Monterrey/Carrera/4to%20semestre/Semana%20Tec%20%28El%20arte%20de%20la%20an%C3%A1litica%29/ejercicios.ipynb#ch0000012?line=9'>10</a>\u001b[0m x \u001b[39m=\u001b[39m [\u001b[39mfloat\u001b[39;49m(filas[\u001b[39m0\u001b[39;49m][\u001b[39m0\u001b[39;49m]), \u001b[39mfloat\u001b[39m(filas[\u001b[39m0\u001b[39m][\u001b[39m1\u001b[39m]), \u001b[39mfloat\u001b[39m(filas[\u001b[39m0\u001b[39m][\u001b[39m2\u001b[39m])]\n\u001b[0;32m     <a href='vscode-notebook-cell:/c%3A/Users/Guillermo/OneDrive%20-%20Instituto%20Tecnologico%20y%20de%20Estudios%20Superiores%20de%20Monterrey/Carrera/4to%20semestre/Semana%20Tec%20%28El%20arte%20de%20la%20an%C3%A1litica%29/ejercicios.ipynb#ch0000012?line=10'>11</a>\u001b[0m y \u001b[39m=\u001b[39m [\u001b[39mfloat\u001b[39m(filas[\u001b[39m1\u001b[39m][\u001b[39m0\u001b[39m]), \u001b[39mfloat\u001b[39m(filas[\u001b[39m1\u001b[39m][\u001b[39m1\u001b[39m]), \u001b[39mfloat\u001b[39m(filas[\u001b[39m1\u001b[39m],[\u001b[39m2\u001b[39m])]\n\u001b[0;32m     <a href='vscode-notebook-cell:/c%3A/Users/Guillermo/OneDrive%20-%20Instituto%20Tecnologico%20y%20de%20Estudios%20Superiores%20de%20Monterrey/Carrera/4to%20semestre/Semana%20Tec%20%28El%20arte%20de%20la%20an%C3%A1litica%29/ejercicios.ipynb#ch0000012?line=11'>12</a>\u001b[0m cr \u001b[39m=\u001b[39m np\u001b[39m.\u001b[39mcross(x,y)\n",
      "\u001b[1;31mValueError\u001b[0m: could not convert string to float: 'ï»¿1.345'"
     ]
    }
   ],
   "source": [
    "import csv\n",
    "import numpy as np\n",
    "filas = []\n",
    "with open(\"vectores.csv\", 'r') as file:\n",
    "    csvr = csv.reader(file)\n",
    "    for row in csvr:\n",
    "        filas.append(row)\n",
    "print(filas)\n",
    "\n",
    "x = [float(filas[0][0]), float(filas[0][1]), float(filas[0][2])]\n",
    "y = [float(filas[1][0]), float(filas[1][1]), float(filas[1],[2])]\n",
    "cr = np.cross(x,y)\n",
    "print(\"a = \", x)\n",
    "print(\"b = \", y)\n",
    "print(\"a x b = \", cr)"
   ]
  },
  {
   "cell_type": "code",
   "execution_count": null,
   "metadata": {},
   "outputs": [],
   "source": [
    "[]"
   ]
  }
 ],
 "metadata": {
  "interpreter": {
   "hash": "26de051ba29f2982a8de78e945f0abaf191376122a1563185a90213a26c5da77"
  },
  "kernelspec": {
   "display_name": "Python 3.10.4 64-bit",
   "language": "python",
   "name": "python3"
  },
  "language_info": {
   "codemirror_mode": {
    "name": "ipython",
    "version": 3
   },
   "file_extension": ".py",
   "mimetype": "text/x-python",
   "name": "python",
   "nbconvert_exporter": "python",
   "pygments_lexer": "ipython3",
   "version": "3.10.4"
  },
  "orig_nbformat": 4
 },
 "nbformat": 4,
 "nbformat_minor": 2
}
