{
 "cells": [
  {
   "cell_type": "markdown",
   "metadata": {},
   "source": [
    "# Mapas de calor y boxplots"
   ]
  },
  {
   "cell_type": "code",
   "execution_count": null,
   "metadata": {},
   "outputs": [],
   "source": [
    "import pandas as pd\n",
    "import seaborn as sb\n",
    "import matplotlib.pyplot as plt"
   ]
  },
  {
   "cell_type": "markdown",
   "metadata": {},
   "source": [
    "#### Lectura de datos"
   ]
  },
  {
   "cell_type": "code",
   "execution_count": null,
   "metadata": {},
   "outputs": [],
   "source": [
    "pd.read_csv(\"avocado.csv\")"
   ]
  },
  {
   "cell_type": "markdown",
   "metadata": {},
   "source": [
    "#### Descripción de datos"
   ]
  },
  {
   "cell_type": "code",
   "execution_count": null,
   "metadata": {},
   "outputs": [],
   "source": [
    "data = pd.read_csv(\"avocado.csv\")\n",
    "data.describe().transpose()"
   ]
  },
  {
   "cell_type": "markdown",
   "metadata": {},
   "source": [
    "#### Boxplot"
   ]
  },
  {
   "cell_type": "code",
   "execution_count": null,
   "metadata": {},
   "outputs": [],
   "source": [
    "plt.boxplot(data.iloc[1:,[2]])\n",
    "plt.show()"
   ]
  },
  {
   "cell_type": "markdown",
   "metadata": {},
   "source": [
    "#### Histograma"
   ]
  },
  {
   "cell_type": "code",
   "execution_count": null,
   "metadata": {},
   "outputs": [],
   "source": [
    "plt.hist(data.iloc[1:, [2]])\n",
    "plt.show()"
   ]
  },
  {
   "cell_type": "markdown",
   "metadata": {},
   "source": [
    "#### Scatter"
   ]
  },
  {
   "cell_type": "code",
   "execution_count": null,
   "metadata": {},
   "outputs": [],
   "source": [
    "y=data.iloc[1:, [2]]\n",
    "x=range(len(y))\n",
    "plt.scatter(x,y)\n",
    "plt.show()"
   ]
  },
  {
   "cell_type": "markdown",
   "metadata": {},
   "source": [
    "#### Heatmap 1"
   ]
  },
  {
   "cell_type": "code",
   "execution_count": null,
   "metadata": {},
   "outputs": [],
   "source": [
    "ax = sb.heatmap(data.iloc[1:, [2]])"
   ]
  },
  {
   "cell_type": "markdown",
   "metadata": {},
   "source": [
    "#### Heatmap 2"
   ]
  },
  {
   "cell_type": "code",
   "execution_count": null,
   "metadata": {},
   "outputs": [],
   "source": [
    "df = pd.DataFrame()\n",
    "df[['Year','Month','Day']] = data['Date'].str.split('-',expand=True)\n",
    "df['Volume'] = data['Total Volume']\n",
    "del df['Day']\n",
    "\n",
    "df_wide = pd.pivot_table(df, index='Year', columns='Month', values='Volume')\n",
    "df_wide.fillna(0, inplace=True)\n",
    "df_wide\n",
    "\n",
    "sb.heatmap(df_wide)\n",
    "plt.show()"
   ]
  },
  {
   "cell_type": "markdown",
   "metadata": {},
   "source": [
    "#### Preguntas\n",
    "1. __¿Hay alguna variable que no aporta información?__  \n",
    "    Todas las variables aportan información, sin embargo, no todas las variables sirven directamente para la graficación porque algunas de ellas no son cuantitativas. Consideramos que las variables que no aportan información precisa son la, 4046, 4225 y 4770, ya que no se conoce el contexto al que hacen referencia, haciéndolas así difíciles de usar y comprender ante un usuario/lector que no tenga conocimiento de los tipos de aguacates.\n",
    "2. __Si tuvieras que eliminar variables, ¿cuáles quitarías y por qué?__  \n",
    "    Consideramos que si se tuviera que eliminar alguna variable sería la de año (Year), ya que se cuenta con la variable de fecha (Date) la cual aporta la misma información que la variable mencionada. También, se eliminarían las variables 4046, 4225 y 4770, ya que no aportan información útil al análisis de los datos.\n",
    "3. __¿Existen variables que tengan datos extraños?__  \n",
    "    No, no existen variables con datos extraños ya que todos los datos que se muestran tienen una relación lógica con la propia variable.\n",
    "4. __Si comparas las variables, ¿todas están en rangos similares?__  \n",
    "    No, porque cada variable hace referencia a información completamente independiente, a pesar de que guarden una relación entre sí, no significa que los rangos tengan que ser similares. \n",
    "5. __¿Crees que esto afecte el análisis de los datos?__  \n",
    "    No, porque son variables independientes entre sí, es decir, los valores de una columna no afectan el de otra; a excepción de “Total Bags”, la cual es la suma total de “Small Bags”, “Large Bags” y “XLarge Bags”.\n",
    "6. __¿Puedes encontrar grupos que se parezcan? ¿Qué grupos son estos?__  \n",
    "    Las columnas “Total Bags”, “Small Bags”, “Large Bags” y “XLarge Bags” guardan una relación entre sí, debido a que “Total Bags” es la suma total  del resto de variables antes mencionadas. Otra correlación que se puede suponer, es la que hay entre el volúmen total (Total Volume) con el total de bolsas (Total Bags), ya que a mayor volúmen habrá mayor número de bolsas."
   ]
  }
 ],
 "metadata": {
  "interpreter": {
   "hash": "26de051ba29f2982a8de78e945f0abaf191376122a1563185a90213a26c5da77"
  },
  "kernelspec": {
   "display_name": "Python 3.10.4 64-bit",
   "language": "python",
   "name": "python3"
  },
  "language_info": {
   "codemirror_mode": {
    "name": "ipython",
    "version": 3
   },
   "file_extension": ".py",
   "mimetype": "text/x-python",
   "name": "python",
   "nbconvert_exporter": "python",
   "pygments_lexer": "ipython3",
   "version": "3.10.4"
  },
  "orig_nbformat": 4
 },
 "nbformat": 4,
 "nbformat_minor": 2
}
