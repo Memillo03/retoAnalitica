{
 "cells": [
  {
   "cell_type": "markdown",
   "metadata": {},
   "source": [
    "# Obtención de estadísticas descriptivas"
   ]
  },
  {
   "cell_type": "code",
   "execution_count": 22,
   "metadata": {},
   "outputs": [],
   "source": [
    "import pandas as pd\n",
    "import seaborn as sb\n",
    "import matplotlib.pyplot as plt"
   ]
  },
  {
   "cell_type": "code",
   "execution_count": 23,
   "metadata": {},
   "outputs": [
    {
     "name": "stdout",
     "output_type": "stream",
     "text": [
      "                      user_name         user_location  \\\n",
      "0                        ᏉᎥ☻լꂅϮ            astroworld   \n",
      "1                 Tom Basile 🇺🇸          New York, NY   \n",
      "2               Time4fisticuffs      Pewee Valley, KY   \n",
      "3                   ethel mertz  Stuck in the Middle    \n",
      "4                      DIPR-J&K     Jammu and Kashmir   \n",
      "...                         ...                   ...   \n",
      "74431             Laura Wolfrom         Lexington, KY   \n",
      "74432  Professor Tonya M. Evans         😷 #stayathome   \n",
      "74433        People's Daily app           北京, 中华人民共和国   \n",
      "74434                     M0ser                   NaN   \n",
      "74435    Your Friend & Sabre ⚔️           Chicago, IL   \n",
      "\n",
      "                                        user_description         user_created  \\\n",
      "0      wednesday addams as a disney princess keepin i...  2017-05-26 05:46:42   \n",
      "1      Husband, Father, Columnist & Commentator. Auth...  2009-04-16 20:06:23   \n",
      "2      #Christian #Catholic #Conservative #Reagan #Re...  2009-02-28 18:57:41   \n",
      "3      #Browns #Indians #ClevelandProud #[]_[] #Cavs ...  2019-03-07 01:45:06   \n",
      "4      🖊️Official Twitter handle of Department of Inf...  2017-02-12 06:45:15   \n",
      "...                                                  ...                  ...   \n",
      "74431            The only things I collect are memories.  2010-09-24 02:01:15   \n",
      "74432  Law Prof @DickinsonLaw & Entrepreneur | Crypto...  2013-05-14 20:15:24   \n",
      "74433  Our mission is to provide news and perspective...  2018-02-04 12:36:42   \n",
      "74434  Reagan conservative and attorney raised in the...  2014-02-18 03:46:28   \n",
      "74435  My spectral decomposition has a significant da...  2016-12-19 19:55:00   \n",
      "\n",
      "       user_followers  user_friends  user_favourites  user_verified  \\\n",
      "0                 624           950            18775          False   \n",
      "1                2253          1677               24           True   \n",
      "2                9275          9525             7254          False   \n",
      "3                 197           987             1488          False   \n",
      "4              101009           168              101          False   \n",
      "...               ...           ...              ...            ...   \n",
      "74431              85           586             1902          False   \n",
      "74432            4289          1066            53569          False   \n",
      "74433            1413           102               16          False   \n",
      "74434            2554          1733           129104          False   \n",
      "74435             310          1748            60133          False   \n",
      "\n",
      "                      date                                               text  \\\n",
      "0      2020-07-25 12:27:21  If I smelled the scent of hand sanitizers toda...   \n",
      "1      2020-07-25 12:27:17  Hey @Yankees @YankeesPR and @MLB - wouldn't it...   \n",
      "2      2020-07-25 12:27:14  @diane3443 @wdunlap @realDonaldTrump Trump nev...   \n",
      "3      2020-07-25 12:27:10  @brookbanktv The one gift #COVID19 has give me...   \n",
      "4      2020-07-25 12:27:08  25 July : Media Bulletin on Novel #CoronaVirus...   \n",
      "...                    ...                                                ...   \n",
      "74431  2020-08-04 03:13:29  So far this summer I have filled up my lawn mo...   \n",
      "74432  2020-08-04 03:13:26  ICYMI: REPLAY: #TechIntersect🧩 #16: Isaiah \"@B...   \n",
      "74433  2020-08-04 03:13:22  Community workers in Tianshan District of Urum...   \n",
      "74434  2020-08-04 03:13:19  If only we had a responsible media to warn us ...   \n",
      "74435  2020-08-04 03:13:15  MAGA: #COVID19 is just a cold &amp; it'd be go...   \n",
      "\n",
      "                                      hashtags               source  \\\n",
      "0                                          NaN   Twitter for iPhone   \n",
      "1                                          NaN  Twitter for Android   \n",
      "2                                  ['COVID19']  Twitter for Android   \n",
      "3                                  ['COVID19']   Twitter for iPhone   \n",
      "4            ['CoronaVirusUpdates', 'COVID19']  Twitter for Android   \n",
      "...                                        ...                  ...   \n",
      "74431            ['COVID19', 'QuarantineLife']   Twitter for iPhone   \n",
      "74432  ['TechIntersect', 'Bitcoin', 'COVID19']      Twitter Web App   \n",
      "74433                    ['China', 'Xinjiang']      Twitter Web App   \n",
      "74434                              ['COVID19']   Twitter for iPhone   \n",
      "74435       ['COVID19', 'Hydroxycholoroquine']  Twitter for Android   \n",
      "\n",
      "       is_retweet  \n",
      "0           False  \n",
      "1           False  \n",
      "2           False  \n",
      "3           False  \n",
      "4           False  \n",
      "...           ...  \n",
      "74431       False  \n",
      "74432       False  \n",
      "74433       False  \n",
      "74434       False  \n",
      "74435       False  \n",
      "\n",
      "[74436 rows x 13 columns]\n"
     ]
    }
   ],
   "source": [
    "def readData():\n",
    "    data = pd.read_csv(\"covid19_tweets.csv\")\n",
    "    return data\n",
    "\n",
    "df = readData()\n",
    "print(df)"
   ]
  },
  {
   "cell_type": "code",
   "execution_count": 24,
   "metadata": {},
   "outputs": [
    {
     "name": "stdout",
     "output_type": "stream",
     "text": [
      "<class 'pandas.core.frame.DataFrame'>\n",
      "RangeIndex: 74436 entries, 0 to 74435\n",
      "Data columns (total 13 columns):\n",
      " #   Column            Non-Null Count  Dtype \n",
      "---  ------            --------------  ----- \n",
      " 0   user_name         74436 non-null  object\n",
      " 1   user_location     59218 non-null  object\n",
      " 2   user_description  70079 non-null  object\n",
      " 3   user_created      74436 non-null  object\n",
      " 4   user_followers    74436 non-null  int64 \n",
      " 5   user_friends      74436 non-null  int64 \n",
      " 6   user_favourites   74436 non-null  int64 \n",
      " 7   user_verified     74436 non-null  bool  \n",
      " 8   date              74436 non-null  object\n",
      " 9   text              74436 non-null  object\n",
      " 10  hashtags          53002 non-null  object\n",
      " 11  source            74424 non-null  object\n",
      " 12  is_retweet        74436 non-null  bool  \n",
      "dtypes: bool(2), int64(3), object(8)\n",
      "memory usage: 6.4+ MB\n"
     ]
    }
   ],
   "source": [
    "df.info()"
   ]
  },
  {
   "cell_type": "code",
   "execution_count": 25,
   "metadata": {},
   "outputs": [
    {
     "name": "stdout",
     "output_type": "stream",
     "text": [
      "               user_favourites\n",
      "user_verified                 \n",
      "False               1065054798\n",
      "True                  73609055\n"
     ]
    }
   ],
   "source": [
    "df2 = df.iloc[1:, [7,6]]\n",
    "verified_favourites = df2.groupby(['user_verified']).agg('sum')\n",
    "print(verified_favourites)"
   ]
  },
  {
   "cell_type": "code",
   "execution_count": 26,
   "metadata": {},
   "outputs": [
    {
     "name": "stdout",
     "output_type": "stream",
     "text": [
      "               user_followers\n",
      "user_verified                \n",
      "False               344423296\n",
      "True               7542168008\n"
     ]
    }
   ],
   "source": [
    "df3 = df.iloc[1:, [7, 4]]\n",
    "verified_followers = df3.groupby(['user_verified']).sum()\n",
    "print(verified_followers)"
   ]
  },
  {
   "cell_type": "code",
   "execution_count": 27,
   "metadata": {},
   "outputs": [
    {
     "name": "stdout",
     "output_type": "stream",
     "text": [
      "is_retweet\n",
      "False    74436\n",
      "dtype: int64\n"
     ]
    }
   ],
   "source": [
    "dups_states = df.pivot_table(columns = ['is_retweet'], aggfunc = 'size')\n",
    "print(dups_states)\n"
   ]
  }
 ],
 "metadata": {
  "interpreter": {
   "hash": "26de051ba29f2982a8de78e945f0abaf191376122a1563185a90213a26c5da77"
  },
  "kernelspec": {
   "display_name": "Python 3 (ipykernel)",
   "language": "python",
   "name": "python3"
  },
  "language_info": {
   "codemirror_mode": {
    "name": "ipython",
    "version": 3
   },
   "file_extension": ".py",
   "mimetype": "text/x-python",
   "name": "python",
   "nbconvert_exporter": "python",
   "pygments_lexer": "ipython3",
   "version": "3.10.4"
  }
 },
 "nbformat": 4,
 "nbformat_minor": 2
}
